{
 "cells": [
  {
   "cell_type": "markdown",
   "metadata": {},
   "source": [
    "## read data and tokenize\n",
    "1, stemming or lemmatize tokenizer<br>\n",
    "2, HashingVectorizer or CountVectorizer<br>\n",
    "3, remove english stopwords"
   ]
  },
  {
   "cell_type": "code",
   "execution_count": 1,
   "metadata": {},
   "outputs": [
    {
     "name": "stdout",
     "output_type": "stream",
     "text": [
      "(3000, 6139)\n",
      "(3000,)\n"
     ]
    }
   ],
   "source": [
    "import csv\n",
    "import nltk\n",
    "import string\n",
    "\n",
    "from sklearn.feature_extraction.text import CountVectorizer\n",
    "from sklearn.feature_extraction.text import HashingVectorizer\n",
    "from sklearn.feature_extraction.text import TfidfTransformer\n",
    "from sklearn.feature_extraction.text import TfidfVectorizer\n",
    "\n",
    "import numpy as np\n",
    "\n",
    "## read text data from file\n",
    "labelList = []\n",
    "smsList = []\n",
    "with open('train.csv', encoding='latin-1') as trainfile:\n",
    "    reader = csv.reader(trainfile)\n",
    "    for row in reader:\n",
    "        if row[0] == 'ham':\n",
    "            labelList.append(1)\n",
    "        elif row[0] == 'spam':\n",
    "            labelList.append(0)\n",
    "        else:\n",
    "            ;\n",
    "            \n",
    "        if row[1] == 'sms':\n",
    "            ;\n",
    "        else:\n",
    "            smsList.append(row[1])\n",
    "\n",
    "## no punctuation and lower case\n",
    "corpus = []\n",
    "for sms in smsList:\n",
    "    corpus.append(sms.lower().translate(str.maketrans('','',string.punctuation)))\n",
    "\n",
    "## vectorize and tfidf transformation\n",
    "    \n",
    "# two ways of tokenization\n",
    "# 1, stemming\n",
    "from nltk.stem.porter import PorterStemmer\n",
    "stemmer = PorterStemmer()\n",
    "\n",
    "def stem_tokens(tokens, stemmer):\n",
    "    stemmed = []\n",
    "    for item in tokens:\n",
    "        stemmed.append(stemmer.stem(item))\n",
    "    return stemmed\n",
    "\n",
    "def stem_tokenize(text):\n",
    "    tokens = nltk.word_tokenize(text)\n",
    "    stems = stem_tokens(tokens, stemmer)\n",
    "    return stems\n",
    "\n",
    "# 2, lemmatize\n",
    "from nltk import word_tokenize\n",
    "from nltk.stem import WordNetLemmatizer \n",
    "\n",
    "class LemmaTokenizer(object):\n",
    "    def __init__(self):\n",
    "        self.wnl = WordNetLemmatizer()\n",
    "    def __call__(self, doc):\n",
    "        return [self.wnl.lemmatize(t) for t in word_tokenize(doc)]\n",
    "    \n",
    "#vectorizer = CountVectorizer(tokenizer = stem_tokenize, stop_words = 'english')\n",
    "#vectorizer = CountVectorizer(tokenizer = LemmaTokenizer(), stop_words = 'english')\n",
    "#countsArray = vectorizer.fit_transform(corpus).toarray()\n",
    "\n",
    "#hv = HashingVectorizer(n_features=2**16, tokenizer = LemmaTokenizer(), stop_words = 'english', ngram_range=(1, 2))\n",
    "#countsArray = hv.fit_transform(corpus).toarray()\n",
    "\n",
    "#transformer = TfidfTransformer()\n",
    "#tfs=transformer.fit_transform(countsArray).toarray()\n",
    "\n",
    "## tfidf vectorizer\n",
    "tfidfvectorizer = TfidfVectorizer(tokenizer = LemmaTokenizer(), stop_words = 'english')\n",
    "x=tfidfvectorizer.fit_transform(corpus).toarray()\n",
    "print(x.shape)\n",
    "\n",
    "# label array\n",
    "t = np.asarray(labelList) # 1: ham 0: spam \n",
    "print(t.shape)"
   ]
  },
  {
   "cell_type": "markdown",
   "metadata": {},
   "source": [
    "## settings"
   ]
  },
  {
   "cell_type": "code",
   "execution_count": 2,
   "metadata": {},
   "outputs": [
    {
     "name": "stdout",
     "output_type": "stream",
     "text": [
      "6140\n",
      "3000\n"
     ]
    }
   ],
   "source": [
    "# setting learning rate\n",
    "lr = 0.0001\n",
    "alpha = 0.9\n",
    "\n",
    "# setting lambda and iternum\n",
    "lambdaa = 0.1\n",
    "iternum = 1\n",
    "\n",
    "# size of the matrix\n",
    "M = x.shape[1] + 1\n",
    "N = x.shape[0]\n",
    "\n",
    "# adding bias term to the last column of x\n",
    "temp = np.ones((N,M))\n",
    "temp[ :, : - 1] = x\n",
    "x = temp\n",
    "\n",
    "# initializing w\n",
    "w = np.zeros(M)\n",
    "\n",
    "print(M)\n",
    "print(N)"
   ]
  },
  {
   "cell_type": "markdown",
   "metadata": {},
   "source": [
    "## 10-fold train-validation find lambda\n",
    "1, lambda loop<br>\n",
    "2, 10-fold loop<br>\n",
    "3, train loop<br>\n",
    "4, find error, draw graph<br>"
   ]
  },
  {
   "cell_type": "code",
   "execution_count": 6,
   "metadata": {},
   "outputs": [
    {
     "name": "stderr",
     "output_type": "stream",
     "text": [
      "D:\\Anaconda\\lib\\site-packages\\ipykernel_launcher.py:44: RuntimeWarning: divide by zero encountered in log\n"
     ]
    },
    {
     "name": "stdout",
     "output_type": "stream",
     "text": [
      "lambda is 0.000000, error of train is 5.307234, error of validation is 2.122276\n",
      "lambda is 0.000000, error of train is 5.307234, error of validation is 2.122276\n",
      "lambda is 0.000000, error of train is 5.307233, error of validation is 2.122276\n",
      "lambda is 0.000000, error of train is 5.307231, error of validation is 2.122275\n",
      "lambda is 0.000001, error of train is 5.307206, error of validation is 2.122268\n",
      "lambda is 0.000010, error of train is 5.306955, error of validation is 2.122195\n",
      "lambda is 0.000100, error of train is 5.304452, error of validation is 2.121467\n",
      "lambda is 0.001000, error of train is 5.279502, error of validation is 2.114241\n",
      "lambda is 0.010000, error of train is 5.157202, error of validation is 1.939478\n",
      "lambda is 0.100000, error of train is 14.645513, error of validation is 2.280636\n"
     ]
    },
    {
     "data": {
      "image/png": "[encoded data removed]",
      "text/plain": [
       "<matplotlib.figure.Figure at 0x1ac3f4e00b8>"
      ]
     },
     "metadata": {},
     "output_type": "display_data"
    }
   ],
   "source": [
    "#train\n",
    "from sklearn.model_selection import KFold\n",
    "import matplotlib.pyplot as plt\n",
    "\n",
    "kf = KFold(n_splits = 10)\n",
    "\n",
    "lambda_num = 10\n",
    "lambdaList = np.logspace(-10, -1, lambda_num)\n",
    "\n",
    "error_t=[]\n",
    "error_v=[]\n",
    "\n",
    "eta = 0.1\n",
    "\n",
    "for lambdaa in lambdaList:\n",
    "    # for each lambdaa\n",
    "    error_train = 0\n",
    "    error_valid = 0\n",
    "    \n",
    "    for train, valid in kf.split(x):\n",
    "        # for each fold, use a new w\n",
    "        w = np.zeros(M)\n",
    "        \n",
    "        # split the set into four\n",
    "        x_train, x_valid, t_train, t_valid = x[train], x[valid], t[train], t[valid]\n",
    "        \n",
    "        # train!!\n",
    "        for iternum in range(1,100):\n",
    "            # y\n",
    "            y = 1 / (1 + np.exp( -np.dot(x_train, w)))\n",
    "\n",
    "            # bias term\n",
    "            regu = lambdaa * w\n",
    "            regu[-1] = 0\n",
    "            \n",
    "            # gradients\n",
    "            gradients = np.dot(y - t_train, x_train) + regu\n",
    "\n",
    "            # update eta\n",
    "            w = w - eta * gradients\n",
    "\n",
    "            # cal error\n",
    "            error_train = - np.log(y[t_train==1]).sum()\n",
    "            error_train += - np.log(1 - y[t_train==0]).sum()\n",
    "            \n",
    "        # end of train\n",
    "        \n",
    "        # valid!!\n",
    "        y = 1 / (1 + np.exp( -np.dot(x_valid,w)))\n",
    "        error_valid = - np.log(y[t_valid==1]).sum()\n",
    "        error_valid += - np.log(1 - y[t_valid==0]).sum()\n",
    "        \n",
    "    # end of fold\n",
    "\n",
    "    error_train /= 10\n",
    "    error_valid /= 10\n",
    "    \n",
    "    print('lambda is %f, error of train is %f, error of validation is %f' % (lambdaa, error_train, error_valid))\n",
    "\n",
    "    error_train = error_train.reshape(1)\n",
    "    error_valid = error_valid.reshape(1)\n",
    "    \n",
    "    error_t.append(error_train)\n",
    "    error_v.append(error_valid)\n",
    "\n",
    "lambdaLogList = np.log10(lambdaList)\n",
    "\n",
    "plt.title('Error & log10\\u03BB')\n",
    "plt.xlabel('log10\\u03BB')\n",
    "plt.ylabel('red: train error, blue: validation error')\n",
    "plt.plot(lambdaLogList.tolist(), error_t, color=\"red\", label=\"train error\")\n",
    "plt.plot(lambdaLogList.tolist(), error_v, color=\"blue\", label=\"validation error\")\n",
    "plt.grid(True)\n",
    "plt.legend()\n",
    "plt.show() "
   ]
  },
  {
   "cell_type": "markdown",
   "metadata": {},
   "source": [
    "## batch gradient descent logistic regression\n",
    "1, calculate prediction y<br>\n",
    "2, updating w<br>\n",
    "3, updating eta<br>\n",
    "4, calculate error<br>\n",
    "5, test train set prediction percentage"
   ]
  },
  {
   "cell_type": "code",
   "execution_count": 8,
   "metadata": {},
   "outputs": [
    {
     "name": "stderr",
     "output_type": "stream",
     "text": [
      "D:\\Anaconda\\lib\\site-packages\\ipykernel_launcher.py:34: RuntimeWarning: divide by zero encountered in log\n"
     ]
    },
    {
     "name": "stdout",
     "output_type": "stream",
     "text": [
      "iteration 100, error 336.804788\n",
      "iteration 200, error 197.894505\n",
      "iteration 300, error 131.246544\n",
      "iteration 400, error 85.403531\n",
      "iteration 500, error 57.715814\n",
      "iteration 600, error 39.716815\n",
      "iteration 700, error 27.274140\n",
      "iteration 800, error 19.589038\n",
      "iteration 900, error 13.518880\n",
      "iteration 1000, error 10.008471\n",
      "iteration 1100, error 6.755279\n",
      "iteration 1200, error 5.142684\n",
      "iteration 1300, error 3.453779\n",
      "iteration 1400, error 2.687324\n",
      "iteration 1500, error 1.798851\n",
      "iteration 1600, error 1.424856\n",
      "iteration 1700, error 0.956555\n",
      "iteration 1800, error 0.769095\n",
      "iteration 1900, error 0.519815\n",
      "iteration 2000, error 0.423951\n"
     ]
    },
    {
     "data": {
      "image/png": "[encoded data removed]",
      "text/plain": [
       "<matplotlib.figure.Figure at 0x2658fbfd780>"
      ]
     },
     "metadata": {},
     "output_type": "display_data"
    },
    {
     "name": "stdout",
     "output_type": "stream",
     "text": [
      "Correct prediction : 1.0\n"
     ]
    }
   ],
   "source": [
    "## batch gradient descent logistic regression\n",
    "\n",
    "# initializing\n",
    "w = np.zeros(M)\n",
    "lambdaa = 0.00001\n",
    "\n",
    "error = 0\n",
    "oldError = 10000000\n",
    "\n",
    "eta = 0.1\n",
    "\n",
    "# picture init\n",
    "import matplotlib.pyplot as plt\n",
    "error_list=[]\n",
    "iter_list=[]\n",
    "\n",
    "# main loop\n",
    "for iternum in range(2000):\n",
    "    # y\n",
    "    y= 1 / (1 + np.exp( -np.dot(x,w)))\n",
    "    \n",
    "    # bias term\n",
    "    regu = lambdaa * w\n",
    "    regu[-1] = 0\n",
    "            \n",
    "    # gradients\n",
    "    gradients = np.dot(y - t,x) + regu\n",
    "     \n",
    "    # update eta\n",
    "    w = w - eta * gradients\n",
    "    \n",
    "    # cal error\n",
    "    error = - np.log(y[t==1]).sum()\n",
    "    error += - np.log(1 - y[t==0]).sum()\n",
    "    \n",
    "    # update eta\n",
    "    if error < oldError:\n",
    "        eta=eta*1.01\n",
    "    else:\n",
    "        eta=eta*0.5\n",
    "    oldError = error\n",
    "              \n",
    "    error_list.append(error.reshape(1))\n",
    "    iter_list.append(iternum)\n",
    "        \n",
    "    if (iternum+1)%100 == 0:\n",
    "        print('iteration %d, error %f' % (iternum+1,error))\n",
    "\n",
    "# convergent speed\n",
    "plt.title('convergent speed')\n",
    "plt.xlabel('iteration times')\n",
    "plt.ylabel('train error')\n",
    "plt.plot(iter_list, error_list, color=\"red\")\n",
    "plt.grid(True)\n",
    "plt.show()\n",
    "\n",
    "# correctness percentage\n",
    "correctNum = 0\n",
    "for i in range(N - 1):\n",
    "    if (y[i] >= 0.5 and t[i] == 1) or (y[i] < 0.5 and t[i] == 0):\n",
    "        correctNum += 1 \n",
    "\n",
    "print ('Correct prediction : {}'.format (correctNum / (N - 1)))"
   ]
  },
  {
   "cell_type": "markdown",
   "metadata": {},
   "source": [
    "## read test data\n",
    "1, tokenize in the exact same way as train data"
   ]
  },
  {
   "cell_type": "code",
   "execution_count": 12,
   "metadata": {},
   "outputs": [
    {
     "name": "stdout",
     "output_type": "stream",
     "text": [
      "(2572, 6139)\n",
      "(2572,)\n"
     ]
    }
   ],
   "source": [
    "## read test data from file\n",
    "labelList_test = []\n",
    "smsList = []\n",
    "with open('test.csv', encoding='latin-1') as trainfile:\n",
    "    reader = csv.reader(trainfile)\n",
    "    for row in reader:\n",
    "        if row[0] == 'ham':\n",
    "            labelList_test.append(1)\n",
    "        elif row[0] == 'spam':\n",
    "            labelList_test.append(0)\n",
    "        else:\n",
    "            ;\n",
    "            \n",
    "        if row[1] == 'sms':\n",
    "            ;\n",
    "        else:\n",
    "            smsList.append(row[1])\n",
    "\n",
    "## no punctuation and lower case\n",
    "corpus = []\n",
    "for sms in smsList:\n",
    "    corpus.append(sms.lower().translate(str.maketrans('','',string.punctuation)))\n",
    "x_test = tfidfvectorizer.transform(corpus).toarray()\n",
    "print(x_test.shape)\n",
    "\n",
    "t_test = np.asarray(labelList_test) #1:ham 0:spam    \n",
    "print(t_test.shape)"
   ]
  },
  {
   "cell_type": "markdown",
   "metadata": {},
   "source": [
    "## test data cross-entropy error and prediction percentage"
   ]
  },
  {
   "cell_type": "code",
   "execution_count": 14,
   "metadata": {},
   "outputs": [
    {
     "name": "stdout",
     "output_type": "stream",
     "text": [
      "test error:161.36974151698803\n",
      "Correct prediction : 0.9817191754181253\n"
     ]
    }
   ],
   "source": [
    "## predict with test data\n",
    "\n",
    "# test data dimension\n",
    "N_test = x_test.shape[0]\n",
    "\n",
    "# bias term adding\n",
    "temp = np.ones((N_test, M))\n",
    "temp[:, :-1] = x_test\n",
    "x_test = temp\n",
    "\n",
    "# y\n",
    "y_test = 1 / (1 + np.exp( -np.dot(x_test, w)))\n",
    "\n",
    "# cal error\n",
    "error = - np.log(y_test[t_test==1]).sum()\n",
    "error += - np.log(1 - y_test[t_test==0]).sum()\n",
    "\n",
    "print('test error:{}'.format (error))\n",
    "\n",
    "# correctness percentage\n",
    "correctNum = 0\n",
    "for i in range(N_test - 1):\n",
    "    if (y_test[i] >= 0.5 and t_test[i] == 1) or (y_test[i] < 0.5 and t_test[i] == 0):\n",
    "        correctNum += 1\n",
    "\n",
    "print ('Correct prediction : {}'.format (correctNum / (N_test - 1)))"
   ]
  },
  {
   "cell_type": "markdown",
   "metadata": {},
   "source": [
    "## Stochastic Gradient descent\n",
    "1, has a slower convergence speed than batch gradient descent"
   ]
  },
  {
   "cell_type": "code",
   "execution_count": 18,
   "metadata": {},
   "outputs": [
    {
     "name": "stderr",
     "output_type": "stream",
     "text": [
      "D:\\Anaconda\\lib\\site-packages\\ipykernel_launcher.py:38: RuntimeWarning: divide by zero encountered in log\n"
     ]
    },
    {
     "name": "stdout",
     "output_type": "stream",
     "text": [
      "iteration 100, error 342.825234\n",
      "iteration 200, error 226.754147\n",
      "iteration 300, error 178.148321\n",
      "iteration 400, error 135.230978\n",
      "iteration 500, error 107.273266\n",
      "iteration 600, error 91.192337\n",
      "iteration 700, error 76.818686\n",
      "iteration 800, error 69.051334\n",
      "iteration 900, error 62.682378\n",
      "iteration 1000, error 57.822559\n"
     ]
    },
    {
     "data": {
      "image/png": "[encoded data removed]",
      "text/plain": [
       "<matplotlib.figure.Figure at 0x1ac3f914a58>"
      ]
     },
     "metadata": {},
     "output_type": "display_data"
    },
    {
     "name": "stdout",
     "output_type": "stream",
     "text": [
      "Correct prediction using Stochastic Gradient descent: 0.9817191754181253\n"
     ]
    }
   ],
   "source": [
    "## Stochastic Gradient descent logistic regression\n",
    "\n",
    "# initializing\n",
    "w = np.zeros(M)\n",
    "lambdaa = 0.00001\n",
    "\n",
    "error = 0\n",
    "oldError = 10000000\n",
    "\n",
    "eta = 0.1\n",
    "\n",
    "# picture init\n",
    "import matplotlib.pyplot as plt\n",
    "error_list=[]\n",
    "iter_list=[]\n",
    "\n",
    "# main loop\n",
    "for iternum in range(1000):\n",
    "    # y\n",
    "    y= 1 / (1 + np.exp( -np.dot(x,w)))\n",
    "    \n",
    "    # bias term\n",
    "    regu = lambdaa * w\n",
    "    regu[-1] = 0\n",
    "    \n",
    "    # Stochastic\n",
    "    j = np.random.permutation(N)\n",
    "    \n",
    "    for i in range(N - 1):\n",
    "        # gradients\n",
    "        gradients=((y[j[i]] - t[j[i]]) * x[j[i]]) + regu\n",
    "        \n",
    "        # update eta\n",
    "        w = w - eta * gradients\n",
    "    \n",
    "    # cal error\n",
    "    error = - np.log(y[t==1]).sum()\n",
    "    error += - np.log(1 - y[t==0]).sum()\n",
    "    \n",
    "    # update eta\n",
    "    if error < oldError:\n",
    "        eta=eta*1.01\n",
    "    else:\n",
    "        eta=eta*0.5\n",
    "    oldError = error\n",
    "              \n",
    "    error_list.append(error.reshape(1))\n",
    "    iter_list.append(iternum)\n",
    "        \n",
    "    if (iternum+1)%100 == 0:\n",
    "        print('iteration %d, error %f' % (iternum+1,error))\n",
    "\n",
    "# convergent speed\n",
    "plt.title('convergent speed')\n",
    "plt.xlabel('iteration times')\n",
    "plt.ylabel('train error')\n",
    "plt.plot(iter_list, error_list, color=\"red\")\n",
    "plt.grid(True)\n",
    "plt.show()\n",
    "\n",
    "# y\n",
    "y_test = 1 / (1 + np.exp( -np.dot(x_test, w)))\n",
    "\n",
    "# correctness percentage\n",
    "correctNum = 0\n",
    "for i in range(N_test - 1):\n",
    "    if (y_test[i] >= 0.5 and t_test[i] == 1) or (y_test[i] < 0.5 and t_test[i] == 0):\n",
    "        correctNum += 1\n",
    "\n",
    "print ('Correct prediction using Stochastic Gradient descent: {}'.format (correctNum / (N_test - 1)))"
   ]
  },
  {
   "cell_type": "markdown",
   "metadata": {},
   "source": [
    "## EG+-"
   ]
  },
  {
   "cell_type": "code",
   "execution_count": null,
   "metadata": {},
   "outputs": [],
   "source": [
    "## EG+-\n",
    "\n",
    "eta = 0.0001\n",
    "\n",
    "error = 0\n",
    "oldError = 10000000\n",
    "\n",
    "w_p = np.ones(M - 1) / (M - 1)\n",
    "w_n = np.zeros(M - 1)\n",
    "\n",
    "for iternum in range(1, 100):\n",
    "    #y\n",
    "    y = np.dot((w_p - w_n), x[:,:-1].T)      \n",
    "    \n",
    "    #r\n",
    "    r_p = np.exp( - eta * np.dot(( y - t ), x[:,:-1]))\n",
    "    r_n = 1 / r_p\n",
    "    \n",
    "    #w\n",
    "    w_p = ( w_p * r_p ) / ( w_p * r_p + w_n * r_n ).sum()\n",
    "    w_n = ( w_n * r_n ) / ( w_p * r_p + w_n * r_n ).sum()\n",
    "    \n",
    "    # error\n",
    "    sigoidy = 1 / (1 + np.exp(-y))\n",
    "    error = - np.log(sigoidy[t==1]).sum()\n",
    "    error += - np.log(1 - sigoidy[t==0]).sum()\n",
    "    \n",
    "    # update eta\n",
    "    #if error < oldError:\n",
    "    #    eta=eta*1.01\n",
    "    #else:\n",
    "    #    eta=eta*0.5\n",
    "    #oldError = error\n",
    "    \n",
    "    if (iternum+2)%10== 0:\n",
    "        print('iteration %d, error %f' % (iternum+2,error))\n",
    "\n",
    "# test\n",
    "y_test_eg = np.dot(( w_p - w_n ), x_test[:,:-1].T)\n",
    "\n",
    "# error\n",
    "error = - np.log(y_test_eg[t_test==1]).sum()\n",
    "error += - np.log(1 - y_test_eg[t_test==0]).sum()\n",
    "\n",
    "print('test error:{}'.format (error))\n",
    "\n",
    "# correctness percentage\n",
    "correctNum = 0\n",
    "for i in range(N_test - 1):\n",
    "    if (y_test_eg[i] >= 0.5 and t_test[i] == 1) or (y_test_eg[i] < 0.5 and t_test[i] == 0):\n",
    "        correctNum += 1\n",
    "\n",
    "print ('Correct prediction using EG+-: {}'.format (correctNum / (N_test - 1)))\n",
    "\n"
   ]
  },
  {
   "cell_type": "code",
   "execution_count": null,
   "metadata": {
    "collapsed": true
   },
   "outputs": [],
   "source": []
  }
 ],
 "metadata": {
  "kernelspec": {
   "display_name": "Python 3",
   "language": "python",
   "name": "python3"
  },
  "language_info": {
   "codemirror_mode": {
    "name": "ipython",
    "version": 3
   },
   "file_extension": ".py",
   "mimetype": "text/x-python",
   "name": "python",
   "nbconvert_exporter": "python",
   "pygments_lexer": "ipython3",
   "version": "3.5.4"
  }
 },
 "nbformat": 4,
 "nbformat_minor": 2
}
