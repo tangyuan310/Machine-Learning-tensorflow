{
 "cells": [
  {
   "cell_type": "markdown",
   "metadata": {},
   "source": [
    "## Read Text Data From File\n",
    "<ul>\n",
    "<li> remove label 'handle', 'tweet'</li>\n",
    "    <li> encoding = 'utf-8'</li>\n",
    "    <li> labelList:  Clinton: 1 ; Trump: 0</li>\n",
    "    <li> print size</li>\n",
    "</ul>"
   ]
  },
  {
   "cell_type": "code",
   "execution_count": 23,
   "metadata": {},
   "outputs": [
    {
     "name": "stdout",
     "output_type": "stream",
     "text": [
      "4743\n",
      "4743\n",
      "1701\n"
     ]
    }
   ],
   "source": [
    "## read text data from file\n",
    "\n",
    "import csv\n",
    "import string\n",
    "\n",
    "labelList = []\n",
    "tweetList = []\n",
    "tweetList_test = []\n",
    "\n",
    "with open('train.csv', encoding='utf-8') as trainfile:\n",
    "    reader = csv.reader(trainfile)\n",
    "    for row in reader:\n",
    "        if row[0] == 'HillaryClinton':\n",
    "            labelList.append(1)\n",
    "        elif row[0] == 'realDonaldTrump':\n",
    "            labelList.append(0)\n",
    "            \n",
    "        if row[1] != 'tweet':\n",
    "            tweetList.append(row[1])\n",
    "            \n",
    "with open('test.csv', encoding='utf-8') as testfile:\n",
    "    reader = csv.reader(testfile)\n",
    "    for row in reader: \n",
    "        if row[1] != 'tweet':\n",
    "            tweetList_test.append(row[1])\n",
    "\n",
    "N = len(tweetList)\n",
    "print(len(tweetList))\n",
    "print(len(labelList))\n",
    "\n",
    "N_test = len(tweetList_test)\n",
    "print(len(tweetList_test))"
   ]
  },
  {
   "cell_type": "markdown",
   "metadata": {},
   "source": [
    "## Create Corpus\n",
    "<ul>\n",
    "    <li>unique word in corpus</li>\n",
    "</ul>"
   ]
  },
  {
   "cell_type": "code",
   "execution_count": 25,
   "metadata": {},
   "outputs": [
    {
     "name": "stdout",
     "output_type": "stream",
     "text": [
      "8787\n"
     ]
    }
   ],
   "source": [
    "## corpus\n",
    "import string\n",
    "\n",
    "def refineWordsList(tweetList):\n",
    "    ret = []\n",
    "    for tweet in tweetList:\n",
    "        step1 = tweet.split('http',1)[0]\n",
    "        step2 = step1.lower()\n",
    "        step3 = step2.translate(str.maketrans('.',' '))\n",
    "        step4 = step3.translate(str.maketrans('','',string.punctuation))\n",
    "        ret.append(step4)\n",
    "    return ret\n",
    "\n",
    "tweetList = refineWordsList(tweetList)\n",
    "tweetList_test = refineWordsList(tweetList_test)\n",
    "\n",
    "corpus = set()\n",
    "\n",
    "for tweet in tweetList:\n",
    "    words = tweet.split();\n",
    "    corpus.update(words)\n",
    "\n",
    "corpus = list(corpus)\n",
    "M = len(corpus)\n",
    "print(M)"
   ]
  },
  {
   "cell_type": "markdown",
   "metadata": {},
   "source": [
    "## Label Encoding\n",
    "\n",
    "<ul>\n",
    "    <li>hash table encoder each word to unique number</li>\n",
    "    <li>encode entire tweet list</li>\n",
    "    <li>decode method</li>\n",
    "</ul>"
   ]
  },
  {
   "cell_type": "code",
   "execution_count": 27,
   "metadata": {},
   "outputs": [
    {
     "name": "stdout",
     "output_type": "stream",
     "text": [
      "4743\n",
      "1701\n",
      "\n",
      "when donald trump goes low   register to vote \n",
      "[362, 6425, 5398, 1522, 85, 4650, 670, 3828]\n",
      "['when', 'donald', 'trump', 'goes', 'low', 'register', 'to', 'vote']\n",
      "\n",
      "its nationalvoterregistrationday  celebrate by registering to vote → \n",
      "[309, 166, 3577, 2913, 4089, 670, 3828, 3422]\n"
     ]
    }
   ],
   "source": [
    "## Label Encoding\n",
    "\n",
    "hashEncoder = {}\n",
    "i = 0\n",
    "for word in corpus:\n",
    "    hashEncoder[word] = i\n",
    "    i += 1\n",
    "\n",
    "# train\n",
    "tweetList_encoded = []\n",
    "for tweet in tweetList:\n",
    "    tweet_encoded = []\n",
    "    for word in tweet.split():\n",
    "        word_encoded = hashEncoder[word]\n",
    "        tweet_encoded.append(word_encoded)\n",
    "    tweetList_encoded.append(tweet_encoded)\n",
    "    \n",
    "# test\n",
    "tweetList_test_encoded = []\n",
    "for tweet in tweetList_test:\n",
    "    tweet_encoded = []\n",
    "    for word in tweet.split():\n",
    "        if hashEncoder.get(word) != None :\n",
    "            word_encoded = hashEncoder[word]\n",
    "            tweet_encoded.append(word_encoded)\n",
    "    tweetList_test_encoded.append(tweet_encoded)\n",
    "\n",
    "def decodeTweet(tweet_encoded):\n",
    "    decodeList = []\n",
    "    for word_encoded in tweetList_encoded[5]:\n",
    "        decodeList.append(list(hashEncoder.keys())[list(hashEncoder.values()).index(word_encoded)])\n",
    "    return decodeList\n",
    "    \n",
    "print(len(tweetList_encoded))\n",
    "print(len(tweetList_test_encoded))\n",
    "print()\n",
    "print(tweetList[5])\n",
    "print(tweetList_encoded[5])\n",
    "print(decodeTweet(tweetList_encoded[5]))\n",
    "print()\n",
    "print(tweetList_test[5])\n",
    "print(tweetList_test_encoded[5])"
   ]
  },
  {
   "cell_type": "markdown",
   "metadata": {},
   "source": [
    "## import"
   ]
  },
  {
   "cell_type": "code",
   "execution_count": 10,
   "metadata": {},
   "outputs": [],
   "source": [
    "import tensorflow as tf\n",
    "import numpy as np\n",
    "import time\n",
    "import math\n",
    "from tensorflow.contrib import rnn"
   ]
  },
  {
   "cell_type": "markdown",
   "metadata": {},
   "source": [
    "## LSTM"
   ]
  },
  {
   "cell_type": "code",
   "execution_count": null,
   "metadata": {},
   "outputs": [],
   "source": []
  },
  {
   "cell_type": "markdown",
   "metadata": {},
   "source": [
    "## FeedForwardNN"
   ]
  },
  {
   "cell_type": "code",
   "execution_count": null,
   "metadata": {},
   "outputs": [],
   "source": [
    "# Training Parameters\n",
    "learning_rate = 0.001\n",
    "training_steps = 10000\n",
    "batch_size = 128\n",
    "display_step = 200\n",
    "\n",
    "# Network Parameters\n",
    "num_input = 28 # MNIST data input (img shape: 28*28)\n",
    "timesteps = 28 # timesteps\n",
    "num_hidden = 128 # hidden layer num of features\n",
    "num_classes = 10 # MNIST total classes (0-9 digits)\n",
    "\n",
    "# tf Graph input\n",
    "X = tf.placeholder(\"float\", [None, timesteps, num_input])\n",
    "Y = tf.placeholder(\"float\", [None, num_classes])"
   ]
  },
  {
   "cell_type": "code",
   "execution_count": null,
   "metadata": {},
   "outputs": [],
   "source": [
    "\n"
   ]
  },
  {
   "cell_type": "code",
   "execution_count": null,
   "metadata": {},
   "outputs": [],
   "source": []
  },
  {
   "cell_type": "code",
   "execution_count": null,
   "metadata": {},
   "outputs": [],
   "source": []
  },
  {
   "cell_type": "code",
   "execution_count": null,
   "metadata": {},
   "outputs": [],
   "source": [
    "\n",
    "    "
   ]
  },
  {
   "cell_type": "code",
   "execution_count": null,
   "metadata": {},
   "outputs": [],
   "source": []
  },
  {
   "cell_type": "code",
   "execution_count": null,
   "metadata": {},
   "outputs": [],
   "source": []
  },
  {
   "cell_type": "code",
   "execution_count": 7,
   "metadata": {},
   "outputs": [],
   "source": []
  },
  {
   "cell_type": "code",
   "execution_count": null,
   "metadata": {},
   "outputs": [],
   "source": []
  },
  {
   "cell_type": "code",
   "execution_count": null,
   "metadata": {},
   "outputs": [],
   "source": []
  },
  {
   "cell_type": "code",
   "execution_count": null,
   "metadata": {},
   "outputs": [],
   "source": []
  },
  {
   "cell_type": "code",
   "execution_count": null,
   "metadata": {},
   "outputs": [],
   "source": []
  },
  {
   "cell_type": "code",
   "execution_count": null,
   "metadata": {},
   "outputs": [],
   "source": []
  }
 ],
 "metadata": {
  "kernelspec": {
   "display_name": "Python 3",
   "language": "python",
   "name": "python3"
  },
  "language_info": {
   "codemirror_mode": {
    "name": "ipython",
    "version": 3
   },
   "file_extension": ".py",
   "mimetype": "text/x-python",
   "name": "python",
   "nbconvert_exporter": "python",
   "pygments_lexer": "ipython3",
   "version": "3.5.4"
  }
 },
 "nbformat": 4,
 "nbformat_minor": 2
}
